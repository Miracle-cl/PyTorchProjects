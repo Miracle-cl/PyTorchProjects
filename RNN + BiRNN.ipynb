{
 "cells": [
  {
   "cell_type": "code",
   "execution_count": 1,
   "metadata": {
    "collapsed": true
   },
   "outputs": [],
   "source": [
    "import torch\n",
    "import torch.nn as nn\n",
    "import torchvision.datasets as dsets\n",
    "import torchvision.transforms as transforms\n",
    "from torch.autograd import Variable"
   ]
  },
  {
   "cell_type": "code",
   "execution_count": 3,
   "metadata": {
    "collapsed": true
   },
   "outputs": [],
   "source": [
    "# Hyper Parameters\n",
    "sequence_length = 28\n",
    "input_size = 28\n",
    "hidden_size = 128\n",
    "num_layers = 2\n",
    "num_classes = 10\n",
    "batch_size = 32\n",
    "num_epochs = 2\n",
    "learning_rate = 0.01"
   ]
  },
  {
   "cell_type": "code",
   "execution_count": 4,
   "metadata": {},
   "outputs": [],
   "source": [
    "# datasets, dataloader\n",
    "train_dsets = dsets.MNIST(root='../data/', train=True, download=True, transform=transforms.ToTensor())\n",
    "test_dsets = dsets.MNIST(root='../data/', train=False, transform=transforms.ToTensor())\n",
    "\n",
    "train_loader = torch.utils.data.DataLoader(dataset=train_dsets, batch_size=batch_size, shuffle=True)\n",
    "test_loader = torch.utils.data.DataLoader(dataset=test_dsets, batch_size=batch_size, shuffle=False)"
   ]
  },
  {
   "cell_type": "markdown",
   "metadata": {},
   "source": [
    "## RNN"
   ]
  },
  {
   "cell_type": "code",
   "execution_count": 12,
   "metadata": {},
   "outputs": [],
   "source": [
    "# RNN model : many to one\n",
    "class RNN(nn.Module):\n",
    "    def __init__(self, input_size, hidden_size, num_layers, num_classes):\n",
    "        super(RNN, self).__init__()\n",
    "        self.hidden_size = hidden_size\n",
    "        self.num_layers = num_layers\n",
    "        self.lstm = nn.LSTM(input_size, hidden_size, num_layers, batch_first=True)\n",
    "        self.fc = nn.Linear(hidden_size, num_classes)\n",
    "        \n",
    "    def forward(self, x):\n",
    "        # initial states\n",
    "        h0 = Variable(torch.zeros(self.num_layers, x.size(0), self.hidden_size))\n",
    "        c0 = Variable(torch.zeros(self.num_layers, x.size(0), self.hidden_size))\n",
    "        \n",
    "        # forward\n",
    "        out, _ = self.lstm(x, (h0, c0))\n",
    "        \n",
    "        # decode hidden state of the last time step\n",
    "        out = self.fc(out[:, -1, :])\n",
    "        return out"
   ]
  },
  {
   "cell_type": "code",
   "execution_count": 13,
   "metadata": {},
   "outputs": [
    {
     "name": "stdout",
     "output_type": "stream",
     "text": [
      "RNN(\n",
      "  (lstm): LSTM(28, 128, num_layers=2, batch_first=True)\n",
      "  (fc): Linear(in_features=128, out_features=10, bias=True)\n",
      ")\n"
     ]
    }
   ],
   "source": [
    "# create model\n",
    "rnn = RNN(input_size, hidden_size, num_layers, num_classes)\n",
    "\n",
    "print(rnn)"
   ]
  },
  {
   "cell_type": "code",
   "execution_count": 14,
   "metadata": {
    "collapsed": true
   },
   "outputs": [],
   "source": [
    "# loss and optimizer\n",
    "criterion = nn.CrossEntropyLoss()\n",
    "optimizer = torch.optim.Adam(rnn.parameters(), lr=learning_rate)"
   ]
  },
  {
   "cell_type": "code",
   "execution_count": 15,
   "metadata": {},
   "outputs": [
    {
     "name": "stdout",
     "output_type": "stream",
     "text": [
      "Epoch: 1/2... Iterations: 200... Loss: 0.8602895736694336\n",
      "Epoch: 1/2... Iterations: 400... Loss: 0.4100678563117981\n",
      "Epoch: 1/2... Iterations: 600... Loss: 0.15973937511444092\n",
      "Epoch: 1/2... Iterations: 800... Loss: 0.2933061718940735\n",
      "Epoch: 1/2... Iterations: 1000... Loss: 0.21323014795780182\n",
      "Epoch: 1/2... Iterations: 1200... Loss: 0.16835957765579224\n",
      "Epoch: 1/2... Iterations: 1400... Loss: 0.11336501687765121\n",
      "Epoch: 1/2... Iterations: 1600... Loss: 0.13124777376651764\n",
      "Epoch: 1/2... Iterations: 1800... Loss: 0.03121345117688179\n",
      "Epoch: 2/2... Iterations: 2000... Loss: 0.04371058940887451\n",
      "Epoch: 2/2... Iterations: 2200... Loss: 0.14326423406600952\n",
      "Epoch: 2/2... Iterations: 2400... Loss: 0.17982105910778046\n",
      "Epoch: 2/2... Iterations: 2600... Loss: 0.14355671405792236\n",
      "Epoch: 2/2... Iterations: 2800... Loss: 0.02993115223944187\n",
      "Epoch: 2/2... Iterations: 3000... Loss: 0.5630106925964355\n",
      "Epoch: 2/2... Iterations: 3200... Loss: 0.22818925976753235\n",
      "Epoch: 2/2... Iterations: 3400... Loss: 0.12739530205726624\n",
      "Epoch: 2/2... Iterations: 3600... Loss: 0.560951292514801\n"
     ]
    }
   ],
   "source": [
    "# Training\n",
    "i = 0\n",
    "\n",
    "for epoch in range(num_epochs):\n",
    "    for images, labels in train_loader:\n",
    "        images = Variable(images.view(-1, sequence_length, input_size)) # 32x1x28x28 - 32x28x28\n",
    "        labels = Variable(labels)\n",
    "        \n",
    "        optimizer.zero_grad()\n",
    "        outputs = rnn(images)\n",
    "        loss = criterion(outputs, labels)\n",
    "        loss.backward()\n",
    "        optimizer.step()\n",
    "        \n",
    "        i += 1\n",
    "        if i % 200 == 0:\n",
    "            print(\"Epoch: {}/{}...\".format(epoch+1, num_epochs), \n",
    "                  \"Iterations: {}...\".format(i), \n",
    "                  \"Loss: {}\".format(loss.data[0]))"
   ]
  },
  {
   "cell_type": "code",
   "execution_count": 35,
   "metadata": {},
   "outputs": [
    {
     "name": "stdout",
     "output_type": "stream",
     "text": [
      "Accuracy: 96.890000 %\n"
     ]
    }
   ],
   "source": [
    "# Testing\n",
    "corr = total = 0\n",
    "\n",
    "for images, labels in test_loader:\n",
    "    images = Variable(images.view(-1, sequence_length, input_size))\n",
    "    outputs = rnn(images)\n",
    "    _, predicted = torch.max(outputs.data, 1)\n",
    "    total += labels.size(0)\n",
    "    corr += (predicted == labels).sum()\n",
    "    \n",
    "print('Accuracy: %f %%' % (100 * corr / total))"
   ]
  },
  {
   "cell_type": "markdown",
   "metadata": {},
   "source": [
    "## BiRNN"
   ]
  },
  {
   "cell_type": "code",
   "execution_count": 37,
   "metadata": {
    "collapsed": true
   },
   "outputs": [],
   "source": [
    "# Hyper Parameters\n",
    "sequence_length = 28\n",
    "input_size = 28\n",
    "hidden_size = 128\n",
    "num_layers = 2\n",
    "num_classes = 10\n",
    "batch_size = 32\n",
    "num_epochs = 2\n",
    "learning_rate = 0.003"
   ]
  },
  {
   "cell_type": "code",
   "execution_count": 43,
   "metadata": {
    "collapsed": true
   },
   "outputs": [],
   "source": [
    "# BiRNN model\n",
    "class BiRNN(nn.Module):\n",
    "    def __init__(self, input_size, hidden_size, num_layers, num_classes):\n",
    "        super(BiRNN, self).__init__()\n",
    "        self.hidden_size = hidden_size\n",
    "        self.num_layers = num_layers\n",
    "        self.lstm = nn.LSTM(input_size, hidden_size, num_layers, batch_first=True, bidirectional=True)\n",
    "        self.fc = nn.Linear(hidden_size*2, num_classes)\n",
    "        \n",
    "    def forward(self, x):\n",
    "        # initial state\n",
    "        h0 = Variable(torch.zeros(self.num_layers*2, x.size(0), self.hidden_size))\n",
    "        c0 = Variable(torch.zeros(self.num_layers*2, x.size(0), self.hidden_size))\n",
    "        \n",
    "        # forward\n",
    "        out, _ = self.lstm(x, (h0, c0))\n",
    "        \n",
    "        # decode hidden state of last time step\n",
    "        out = self.fc(out[:, -1, :])\n",
    "        return out"
   ]
  },
  {
   "cell_type": "code",
   "execution_count": 44,
   "metadata": {},
   "outputs": [
    {
     "name": "stdout",
     "output_type": "stream",
     "text": [
      "BiRNN(\n",
      "  (lstm): LSTM(28, 128, num_layers=2, batch_first=True, bidirectional=True)\n",
      "  (fc): Linear(in_features=256, out_features=10, bias=True)\n",
      ")\n"
     ]
    }
   ],
   "source": [
    "# create model\n",
    "birnn = BiRNN(input_size, hidden_size, num_layers, num_classes)\n",
    "\n",
    "print(birnn)"
   ]
  },
  {
   "cell_type": "code",
   "execution_count": 45,
   "metadata": {},
   "outputs": [
    {
     "name": "stdout",
     "output_type": "stream",
     "text": [
      "Epoch: 1/2... Iterations: 200... Loss: 0.5620202422142029\n",
      "Epoch: 1/2... Iterations: 400... Loss: 0.33108022809028625\n",
      "Epoch: 1/2... Iterations: 600... Loss: 0.09554889053106308\n",
      "Epoch: 1/2... Iterations: 800... Loss: 0.16981902718544006\n",
      "Epoch: 1/2... Iterations: 1000... Loss: 0.2414497286081314\n",
      "Epoch: 1/2... Iterations: 1200... Loss: 0.1587020605802536\n",
      "Epoch: 1/2... Iterations: 1400... Loss: 0.1573137640953064\n",
      "Epoch: 1/2... Iterations: 1600... Loss: 0.04441150277853012\n",
      "Epoch: 1/2... Iterations: 1800... Loss: 0.031389571726322174\n",
      "Epoch: 2/2... Iterations: 2000... Loss: 0.021580053493380547\n",
      "Epoch: 2/2... Iterations: 2200... Loss: 0.07308100908994675\n",
      "Epoch: 2/2... Iterations: 2400... Loss: 0.01798292063176632\n",
      "Epoch: 2/2... Iterations: 2600... Loss: 0.0822453424334526\n",
      "Epoch: 2/2... Iterations: 2800... Loss: 0.22147198021411896\n",
      "Epoch: 2/2... Iterations: 3000... Loss: 0.01293458603322506\n",
      "Epoch: 2/2... Iterations: 3200... Loss: 0.20134693384170532\n",
      "Epoch: 2/2... Iterations: 3400... Loss: 0.0037209303118288517\n",
      "Epoch: 2/2... Iterations: 3600... Loss: 0.09966228902339935\n"
     ]
    }
   ],
   "source": [
    "# loss and optimizer\n",
    "criterion = nn.CrossEntropyLoss()\n",
    "optimizer = torch.optim.Adam(birnn.parameters(), lr=learning_rate)\n",
    "\n",
    "# Training\n",
    "i = 0\n",
    "\n",
    "for epoch in range(num_epochs):\n",
    "    for images, labels in train_loader:\n",
    "        images = Variable(images.view(-1, sequence_length, input_size)) # 32x1x28x28 - 32x28x28\n",
    "        labels = Variable(labels)\n",
    "        \n",
    "        optimizer.zero_grad()\n",
    "        outputs = birnn(images)\n",
    "        loss = criterion(outputs, labels)\n",
    "        loss.backward()\n",
    "        optimizer.step()\n",
    "        \n",
    "        i += 1\n",
    "        if i % 200 == 0:\n",
    "            print(\"Epoch: {}/{}...\".format(epoch+1, num_epochs), \n",
    "                  \"Iterations: {}...\".format(i), \n",
    "                  \"Loss: {}\".format(loss.data[0]))"
   ]
  },
  {
   "cell_type": "code",
   "execution_count": 46,
   "metadata": {},
   "outputs": [
    {
     "name": "stdout",
     "output_type": "stream",
     "text": [
      "Accuracy: 98.290000 %\n"
     ]
    }
   ],
   "source": [
    "# Testing\n",
    "corr = total = 0\n",
    "\n",
    "for images, labels in test_loader:\n",
    "    images = Variable(images.view(-1, sequence_length, input_size))\n",
    "    outputs = birnn(images)\n",
    "    _, predicted = torch.max(outputs.data, 1)\n",
    "    total += labels.size(0)\n",
    "    corr += (predicted == labels).sum()\n",
    "    \n",
    "print('Accuracy: %f %%' % (100 * corr / total))"
   ]
  },
  {
   "cell_type": "code",
   "execution_count": null,
   "metadata": {
    "collapsed": true
   },
   "outputs": [],
   "source": [
    "# Save the Model\n",
    "torch.save(birnn.state_dict(), 'birnn.pkl')"
   ]
  }
 ],
 "metadata": {
  "kernelspec": {
   "display_name": "Python 3",
   "language": "python",
   "name": "python3"
  },
  "language_info": {
   "codemirror_mode": {
    "name": "ipython",
    "version": 3
   },
   "file_extension": ".py",
   "mimetype": "text/x-python",
   "name": "python",
   "nbconvert_exporter": "python",
   "pygments_lexer": "ipython3",
   "version": "3.6.1"
  }
 },
 "nbformat": 4,
 "nbformat_minor": 2
}
