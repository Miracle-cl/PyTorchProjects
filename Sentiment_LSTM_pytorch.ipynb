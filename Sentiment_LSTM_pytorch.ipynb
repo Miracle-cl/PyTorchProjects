{
 "cells": [
  {
   "cell_type": "code",
   "execution_count": 1,
   "metadata": {},
   "outputs": [],
   "source": [
    "import numpy as np\n",
    "# import tensorflow as tf\n",
    "from collections import Counter\n",
    "from string import punctuation\n",
    "\n",
    "import torch \n",
    "import torch.nn as nn\n",
    "import numpy as np\n",
    "from torch.autograd import Variable"
   ]
  },
  {
   "cell_type": "markdown",
   "metadata": {},
   "source": [
    "## 1. Data Preprocessing"
   ]
  },
  {
   "cell_type": "code",
   "execution_count": 2,
   "metadata": {},
   "outputs": [],
   "source": [
    "with open('reviews.txt', 'r') as f:\n",
    "    reviews = f.read()\n",
    "with open('labels.txt', 'r') as f:\n",
    "    labels = f.read()"
   ]
  },
  {
   "cell_type": "code",
   "execution_count": 3,
   "metadata": {},
   "outputs": [
    {
     "data": {
      "text/plain": [
       "33678267"
      ]
     },
     "execution_count": 3,
     "metadata": {},
     "output_type": "execute_result"
    }
   ],
   "source": [
    "len(reviews)"
   ]
  },
  {
   "cell_type": "code",
   "execution_count": 4,
   "metadata": {},
   "outputs": [
    {
     "data": {
      "text/plain": [
       "'bromwell high is a cartoon comedy . it ran at the same time as some other programs about school life  such as  teachers  . my   years in the teaching profession lead me to believe that bromwell high  s satire is much closer to reality than is  teachers  . the scramble to survive financially  the insightful students who can see right through their pathetic teachers  pomp  the pettiness of the whole situation  all remind me of the schools i knew and their students . when i saw the episode in which a student repeatedly tried to burn down the school  i immediately recalled . . . . . . . . . at . . . . . . . . . . high . a classic line inspector i  m here to sack one of your teachers . student welcome to bromwell high . i expect that many adults of my age think that bromwell high is far fetched . what a pity that it isn  t   \\nstory of a man who has unnatural feelings for a pig . starts out with a opening scene that is a terrific example of absurd comedy . a formal orchestra audience is turned into an insane  violent mob by the crazy chantings of it  s singers . unfortunately it stays absurd the whole time with no general narrative eventually making it just too off putting . even those from the era should be turned off . the cryptic dialogue would make shakespeare seem easy to a third grader . on a technical level it  s better than you might think with some good cinematography by future great vilmos zsigmond . future stars sally kirkland and frederic forrest can be seen briefly .  \\nhomelessness  or houselessness as george carlin stated  has been an issue for years but never a plan to help those on the street that were once considered human who did everything from going to school  work  or vote for the matter . most people think of the homeless as just a lost cause while worrying about things such as racism  the war on iraq  pressuring kids to succeed  technology  the elections  inflation  or worrying if they  ll be next to end up on the streets .  br    br   but what if y'"
      ]
     },
     "execution_count": 4,
     "metadata": {},
     "output_type": "execute_result"
    }
   ],
   "source": [
    "reviews[:2000]"
   ]
  },
  {
   "cell_type": "code",
   "execution_count": 5,
   "metadata": {},
   "outputs": [
    {
     "data": {
      "text/plain": [
       "str"
      ]
     },
     "execution_count": 5,
     "metadata": {},
     "output_type": "execute_result"
    }
   ],
   "source": [
    "type(labels)"
   ]
  },
  {
   "cell_type": "code",
   "execution_count": 6,
   "metadata": {},
   "outputs": [
    {
     "data": {
      "text/plain": [
       "'positive\\nnegative\\npositive\\nnegative\\npositive\\nnegative\\npositive\\nnegative\\npositive\\nnegative\\npositive\\nn'"
      ]
     },
     "execution_count": 6,
     "metadata": {},
     "output_type": "execute_result"
    }
   ],
   "source": [
    "labels[:100]"
   ]
  },
  {
   "cell_type": "code",
   "execution_count": 7,
   "metadata": {},
   "outputs": [
    {
     "data": {
      "text/plain": [
       "'!\"#$%&\\'()*+,-./:;<=>?@[\\\\]^_`{|}~'"
      ]
     },
     "execution_count": 7,
     "metadata": {},
     "output_type": "execute_result"
    }
   ],
   "source": [
    "punctuation"
   ]
  },
  {
   "cell_type": "code",
   "execution_count": 8,
   "metadata": {},
   "outputs": [],
   "source": [
    "all_text = ''.join([c for c in reviews if c not in punctuation])\n",
    "reviews = all_text.split('\\n') # list : ['doc', 'doc', ...]\n",
    "\n",
    "all_text = ' '.join(reviews)\n",
    "words = all_text.split()"
   ]
  },
  {
   "cell_type": "code",
   "execution_count": 9,
   "metadata": {},
   "outputs": [
    {
     "name": "stdout",
     "output_type": "stream",
     "text": [
      "['bromwell high is a cartoon comedy  it ran at the same time as some other programs about school life  such as  teachers   my   years in the teaching profession lead me to believe that bromwell high  s satire is much closer to reality than is  teachers   the scramble to survive financially  the insightful students who can see right through their pathetic teachers  pomp  the pettiness of the whole situation  all remind me of the schools i knew and their students  when i saw the episode in which a student repeatedly tried to burn down the school  i immediately recalled          at           high  a classic line inspector i  m here to sack one of your teachers  student welcome to bromwell high  i expect that many adults of my age think that bromwell high is far fetched  what a pity that it isn  t   ', 'story of a man who has unnatural feelings for a pig  starts out with a opening scene that is a terrific example of absurd comedy  a formal orchestra audience is turned into an insane  violent mob by the crazy chantings of it  s singers  unfortunately it stays absurd the whole time with no general narrative eventually making it just too off putting  even those from the era should be turned off  the cryptic dialogue would make shakespeare seem easy to a third grader  on a technical level it  s better than you might think with some good cinematography by future great vilmos zsigmond  future stars sally kirkland and frederic forrest can be seen briefly   ', 'homelessness  or houselessness as george carlin stated  has been an issue for years but never a plan to help those on the street that were once considered human who did everything from going to school  work  or vote for the matter  most people think of the homeless as just a lost cause while worrying about things such as racism  the war on iraq  pressuring kids to succeed  technology  the elections  inflation  or worrying if they  ll be next to end up on the streets   br    br   but what if you were given a bet to live on the streets for a month without the luxuries you once had from a home  the entertainment sets  a bathroom  pictures on the wall  a computer  and everything you once treasure to see what it  s like to be homeless  that is goddard bolt  s lesson   br    br   mel brooks  who directs  who stars as bolt plays a rich man who has everything in the world until deciding to make a bet with a sissy rival  jeffery tambor  to see if he can live in the streets for thirty days without the luxuries if bolt succeeds  he can do what he wants with a future project of making more buildings  the bet  s on where bolt is thrown on the street with a bracelet on his leg to monitor his every move where he can  t step off the sidewalk  he  s given the nickname pepto by a vagrant after it  s written on his forehead where bolt meets other characters including a woman by the name of molly  lesley ann warren  an ex  dancer who got divorce before losing her home  and her pals sailor  howard morris  and fumes  teddy wilson  who are already used to the streets  they  re survivors  bolt isn  t  he  s not used to reaching mutual agreements like he once did when being rich where it  s fight or flight  kill or be killed   br    br   while the love connection between molly and bolt wasn  t necessary to plot  i found  life stinks  to be one of mel brooks  observant films where prior to being a comedy  it shows a tender side compared to his slapstick work such as blazing saddles  young frankenstein  or spaceballs for the matter  to show what it  s like having something valuable before losing it the next day or on the other hand making a stupid bet like all rich people do when they don  t know what to do with their money  maybe they should give it to the homeless instead of using it like monopoly money   br    br   or maybe this film will inspire you to help others   ']\n",
      "\n",
      "\n",
      "['bromwell', 'high', 'is', 'a', 'cartoon', 'comedy', 'it', 'ran', 'at', 'the', 'same', 'time', 'as', 'some', 'other', 'programs', 'about', 'school', 'life', 'such', 'as', 'teachers', 'my', 'years', 'in', 'the', 'teaching', 'profession', 'lead', 'me', 'to', 'believe', 'that', 'bromwell', 'high', 's', 'satire', 'is', 'much', 'closer', 'to', 'reality', 'than', 'is', 'teachers', 'the', 'scramble', 'to', 'survive', 'financially', 'the', 'insightful', 'students', 'who', 'can', 'see', 'right', 'through', 'their', 'pathetic', 'teachers', 'pomp', 'the', 'pettiness', 'of', 'the', 'whole', 'situation', 'all', 'remind', 'me', 'of', 'the', 'schools', 'i', 'knew', 'and', 'their', 'students', 'when', 'i', 'saw', 'the', 'episode', 'in', 'which', 'a', 'student', 'repeatedly', 'tried', 'to', 'burn', 'down', 'the', 'school', 'i', 'immediately', 'recalled', 'at', 'high']\n"
     ]
    }
   ],
   "source": [
    "print(reviews[:3])\n",
    "print('\\n')\n",
    "print(words[:100])"
   ]
  },
  {
   "cell_type": "markdown",
   "metadata": {},
   "source": [
    "## 2. Encoding words and labels"
   ]
  },
  {
   "cell_type": "code",
   "execution_count": 10,
   "metadata": {},
   "outputs": [],
   "source": [
    "# Create your dictionary that maps vocab words to integers here\n",
    "word_count = Counter(words)\n",
    "vocab = sorted(word_count, key=word_count.get, reverse=True)\n",
    "vocab_to_int = {word: i for i, word in enumerate(vocab, 1)}\n",
    "# print(vocab_to_int)"
   ]
  },
  {
   "cell_type": "code",
   "execution_count": 11,
   "metadata": {},
   "outputs": [
    {
     "name": "stdout",
     "output_type": "stream",
     "text": [
      "25001\n",
      "140 114\n",
      "[[21025, 308, 6, 3, 1050, 207, 8, 2138, 32, 1, 171, 57, 15, 49, 81, 5785, 44, 382, 110, 140, 15, 5194, 60, 154, 9, 1, 4975, 5852, 475, 71, 5, 260, 12, 21025, 308, 13, 1978, 6, 74, 2395, 5, 613, 73, 6, 5194, 1, 24103, 5, 1983, 10166, 1, 5786, 1499, 36, 51, 66, 204, 145, 67, 1199, 5194, 19869, 1, 37442, 4, 1, 221, 883, 31, 2988, 71, 4, 1, 5787, 10, 686, 2, 67, 1499, 54, 10, 216, 1, 383, 9, 62, 3, 1406, 3686, 783, 5, 3483, 180, 1, 382, 10, 1212, 13583, 32, 308, 3, 349, 341, 2913, 10, 143, 127, 5, 7690, 30, 4, 129, 5194, 1406, 2326, 5, 21025, 308, 10, 528, 12, 109, 1448, 4, 60, 543, 102, 12, 21025, 308, 6, 227, 4146, 48, 3, 2211, 12, 8, 215, 23], [63, 4, 3, 125, 36, 47, 7472, 1395, 16, 3, 4181, 505, 45, 17, 3, 622, 134, 12, 6, 3, 1279, 457, 4, 1721, 207, 3, 10624, 7373, 300, 6, 667, 83, 35, 2116, 1086, 2989, 34, 1, 898, 46417, 4, 8, 13, 5096, 464, 8, 2656, 1721, 1, 221, 57, 17, 58, 794, 1297, 832, 228, 8, 43, 98, 123, 1469, 59, 147, 38, 1, 963, 142, 29, 667, 123, 1, 13584, 410, 61, 94, 1774, 306, 755, 5, 3, 819, 10396, 22, 3, 1724, 635, 8, 13, 128, 73, 21, 233, 102, 17, 49, 50, 617, 34, 682, 85, 28785, 28786, 682, 374, 3341, 11398, 2, 16371, 7946, 51, 29, 108, 3324]]\n"
     ]
    }
   ],
   "source": [
    "# Convert the reviews to integers, same shape as reviews list, but with integers\n",
    "reviews_ints = []\n",
    "for review in reviews:\n",
    "    reviews_ints.append([vocab_to_int[word] for word in review.split()]) \n",
    "print(len(reviews_ints))\n",
    "print(len(reviews_ints[0]), len(reviews_ints[1]))\n",
    "print(reviews_ints[:2])"
   ]
  },
  {
   "cell_type": "code",
   "execution_count": 12,
   "metadata": {},
   "outputs": [],
   "source": [
    "labels = labels.split('\\n')\n",
    "labels = [1 if label=='positive' else 0 for label in labels]"
   ]
  },
  {
   "cell_type": "code",
   "execution_count": 13,
   "metadata": {},
   "outputs": [],
   "source": [
    "assert len(labels) == 25001"
   ]
  },
  {
   "cell_type": "code",
   "execution_count": 14,
   "metadata": {},
   "outputs": [
    {
     "name": "stdout",
     "output_type": "stream",
     "text": [
      "Zero-length reviews: 1\n",
      "Maximum review length: 2514\n"
     ]
    }
   ],
   "source": [
    "# check abnormal docs\n",
    "review_lens = Counter([len(x) for x in reviews_ints])\n",
    "print(\"Zero-length reviews: {}\".format(review_lens[0]))\n",
    "print(\"Maximum review length: {}\".format(max(review_lens)))"
   ]
  },
  {
   "cell_type": "code",
   "execution_count": 15,
   "metadata": {},
   "outputs": [
    {
     "name": "stdout",
     "output_type": "stream",
     "text": [
      "25000\n"
     ]
    }
   ],
   "source": [
    "# delete the blank doc\n",
    "not_zero_idx = [i for i, sublist in enumerate(reviews_ints) if len(sublist) != 0]\n",
    "print(len(not_zero_idx))"
   ]
  },
  {
   "cell_type": "code",
   "execution_count": 16,
   "metadata": {},
   "outputs": [
    {
     "name": "stdout",
     "output_type": "stream",
     "text": [
      "25000 25000\n"
     ]
    }
   ],
   "source": [
    "# Filter out that review with 0 length\n",
    "reviews_ints = [reviews_ints[idx] for idx in not_zero_idx]\n",
    "labels = np.array([labels[idx] for idx in not_zero_idx])\n",
    "print(len(reviews_ints), len(labels))"
   ]
  },
  {
   "cell_type": "code",
   "execution_count": 17,
   "metadata": {},
   "outputs": [],
   "source": [
    "# transform doc list to array (length=200) \n",
    "seq_len = 200\n",
    "features = np.zeros((len(reviews_ints), seq_len), dtype=int)\n",
    "for i, review_int in enumerate(reviews_ints):\n",
    "    features[i, -len(review_int):] = np.array(review_int)[:seq_len]"
   ]
  },
  {
   "cell_type": "code",
   "execution_count": 18,
   "metadata": {},
   "outputs": [
    {
     "data": {
      "text/plain": [
       "array([[    0,     0,     0,     0,     0,     0,     0,     0,     0,\n",
       "            0,     0,     0,     0,     0,     0,     0,     0,     0,\n",
       "            0,     0,     0,     0,     0,     0,     0,     0,     0,\n",
       "            0,     0,     0,     0,     0,     0,     0,     0,     0,\n",
       "            0,     0,     0,     0,     0,     0,     0,     0,     0,\n",
       "            0,     0,     0,     0,     0,     0,     0,     0,     0,\n",
       "            0,     0,     0,     0,     0,     0, 21025,   308,     6,\n",
       "            3,  1050,   207,     8,  2138,    32,     1,   171,    57,\n",
       "           15,    49,    81,  5785,    44,   382,   110,   140,    15,\n",
       "         5194,    60,   154,     9,     1,  4975,  5852,   475,    71,\n",
       "            5,   260,    12, 21025,   308,    13,  1978,     6,    74,\n",
       "         2395,     5,   613,    73,     6,  5194,     1, 24103,     5,\n",
       "         1983, 10166,     1,  5786,  1499,    36,    51,    66,   204,\n",
       "          145,    67,  1199,  5194, 19869,     1, 37442,     4,     1,\n",
       "          221,   883,    31,  2988,    71,     4,     1,  5787,    10,\n",
       "          686,     2,    67,  1499,    54,    10,   216,     1,   383,\n",
       "            9,    62,     3,  1406,  3686,   783,     5,  3483,   180,\n",
       "            1,   382,    10,  1212, 13583,    32,   308,     3,   349,\n",
       "          341,  2913,    10,   143,   127,     5,  7690,    30,     4,\n",
       "          129,  5194,  1406,  2326,     5, 21025,   308,    10,   528,\n",
       "           12,   109,  1448,     4,    60,   543,   102,    12, 21025,\n",
       "          308,     6,   227,  4146,    48,     3,  2211,    12,     8,\n",
       "          215,    23],\n",
       "       [    0,     0,     0,     0,     0,     0,     0,     0,     0,\n",
       "            0,     0,     0,     0,     0,     0,     0,     0,     0,\n",
       "            0,     0,     0,     0,     0,     0,     0,     0,     0,\n",
       "            0,     0,     0,     0,     0,     0,     0,     0,     0,\n",
       "            0,     0,     0,     0,     0,     0,     0,     0,     0,\n",
       "            0,     0,     0,     0,     0,     0,     0,     0,     0,\n",
       "            0,     0,     0,     0,     0,     0,     0,     0,     0,\n",
       "            0,     0,     0,     0,     0,     0,     0,     0,     0,\n",
       "            0,     0,     0,     0,     0,     0,     0,     0,     0,\n",
       "            0,     0,     0,     0,     0,    63,     4,     3,   125,\n",
       "           36,    47,  7472,  1395,    16,     3,  4181,   505,    45,\n",
       "           17,     3,   622,   134,    12,     6,     3,  1279,   457,\n",
       "            4,  1721,   207,     3, 10624,  7373,   300,     6,   667,\n",
       "           83,    35,  2116,  1086,  2989,    34,     1,   898, 46417,\n",
       "            4,     8,    13,  5096,   464,     8,  2656,  1721,     1,\n",
       "          221,    57,    17,    58,   794,  1297,   832,   228,     8,\n",
       "           43,    98,   123,  1469,    59,   147,    38,     1,   963,\n",
       "          142,    29,   667,   123,     1, 13584,   410,    61,    94,\n",
       "         1774,   306,   755,     5,     3,   819, 10396,    22,     3,\n",
       "         1724,   635,     8,    13,   128,    73,    21,   233,   102,\n",
       "           17,    49,    50,   617,    34,   682,    85, 28785, 28786,\n",
       "          682,   374,  3341, 11398,     2, 16371,  7946,    51,    29,\n",
       "          108,  3324]])"
      ]
     },
     "execution_count": 18,
     "metadata": {},
     "output_type": "execute_result"
    }
   ],
   "source": [
    "features[:2,:]"
   ]
  },
  {
   "cell_type": "code",
   "execution_count": 19,
   "metadata": {},
   "outputs": [
    {
     "data": {
      "text/plain": [
       "(25000, 200)"
      ]
     },
     "execution_count": 19,
     "metadata": {},
     "output_type": "execute_result"
    }
   ],
   "source": [
    "features.shape"
   ]
  },
  {
   "cell_type": "markdown",
   "metadata": {},
   "source": [
    "## 3. Training, Validation, Testing set"
   ]
  },
  {
   "cell_type": "code",
   "execution_count": 20,
   "metadata": {},
   "outputs": [
    {
     "name": "stdout",
     "output_type": "stream",
     "text": [
      "\t\t\tFeature Shapes:\n",
      "Train set: \t\t(20000, 200) \n",
      "Validation set: \t(2500, 200) \n",
      "Test set: \t\t(2500, 200)\n"
     ]
    }
   ],
   "source": [
    "split_frac = 0.8\n",
    "train_val = int(len(features)*split_frac)\n",
    "train_x, val_x = features[:train_val], features[train_val:]\n",
    "train_y, val_y = labels[:train_val], labels[train_val:]\n",
    "\n",
    "val_test = int(len(val_x)*0.5)\n",
    "val_x, test_x = val_x[:val_test], val_x[val_test:]\n",
    "val_y, test_y = val_y[:val_test], val_y[val_test:]\n",
    "\n",
    "print(\"\\t\\t\\tFeature Shapes:\")\n",
    "print(\"Train set: \\t\\t{}\".format(train_x.shape), \n",
    "      \"\\nValidation set: \\t{}\".format(val_x.shape),\n",
    "      \"\\nTest set: \\t\\t{}\".format(test_x.shape))"
   ]
  },
  {
   "cell_type": "code",
   "execution_count": 21,
   "metadata": {},
   "outputs": [
    {
     "name": "stdout",
     "output_type": "stream",
     "text": [
      "(20000, 1) (2500, 1) (2500, 1)\n"
     ]
    }
   ],
   "source": [
    "train_y = train_y.reshape(-1, 1)\n",
    "val_y = val_y.reshape(-1, 1)\n",
    "test_y = test_y.reshape(-1, 1)\n",
    "# train_y = train_y.astype('float')\n",
    "# val_y = val_y.astype('float')\n",
    "# test_y = test_y.astype('float')\n",
    "print(train_y.shape, val_y.shape, test_y.shape)"
   ]
  },
  {
   "cell_type": "markdown",
   "metadata": {},
   "source": [
    "## 4. Model"
   ]
  },
  {
   "cell_type": "code",
   "execution_count": 22,
   "metadata": {},
   "outputs": [],
   "source": [
    "# Hyper Parameters\n",
    "embed_size = 100\n",
    "hidden_size = 256\n",
    "num_layers = 1\n",
    "num_epochs = 10\n",
    "batch_size = 250\n",
    "seq_length = 200\n",
    "learning_rate = 0.002"
   ]
  },
  {
   "cell_type": "code",
   "execution_count": 23,
   "metadata": {},
   "outputs": [
    {
     "data": {
      "text/plain": [
       "74073"
      ]
     },
     "execution_count": 23,
     "metadata": {},
     "output_type": "execute_result"
    }
   ],
   "source": [
    "vocab_size = len(vocab_to_int) + 1\n",
    "vocab_size"
   ]
  },
  {
   "cell_type": "code",
   "execution_count": 24,
   "metadata": {},
   "outputs": [],
   "source": [
    "class LSTM_CLF(nn.Module):\n",
    "    def __init__(self, vocab_size, embed_size, hidden_size, num_layers):\n",
    "        super(LSTM_CLF, self).__init__()\n",
    "        self.embed = nn.Embedding(vocab_size, embed_size)\n",
    "        self.lstm = nn.LSTM(embed_size, hidden_size, num_layers, batch_first=True)\n",
    "        self.linear = nn.Linear(hidden_size, 1)\n",
    "        self.sigmoid = nn.Sigmoid()\n",
    "        self.init_weights()\n",
    "        \n",
    "    def init_weights(self):\n",
    "        self.embed.weight.data.uniform_(-0.1, 0.1)\n",
    "        self.linear.weight.data.uniform_(-0.1, 0.1)\n",
    "        self.linear.bias.data.fill_(0)\n",
    "        \n",
    "    def forward(self, inputs, hidden):\n",
    "        # embed word ids to vectors\n",
    "        inputs = self.embed(inputs)\n",
    "        \n",
    "        # forward\n",
    "        out, hidden = self.lstm(inputs, hidden)\n",
    "        \n",
    "        out = self.linear(out[:, -1, :])\n",
    "        out = self.sigmoid(out)\n",
    "        return out, hidden"
   ]
  },
  {
   "cell_type": "code",
   "execution_count": 25,
   "metadata": {},
   "outputs": [
    {
     "name": "stdout",
     "output_type": "stream",
     "text": [
      "LSTM_CLF(\n",
      "  (embed): Embedding(74073, 100)\n",
      "  (lstm): LSTM(100, 256, batch_first=True)\n",
      "  (linear): Linear(in_features=256, out_features=1, bias=True)\n",
      "  (sigmoid): Sigmoid()\n",
      ")\n"
     ]
    }
   ],
   "source": [
    "model = LSTM_CLF(vocab_size, embed_size, hidden_size, num_layers)\n",
    "model.cuda()\n",
    "\n",
    "print(model)"
   ]
  },
  {
   "cell_type": "code",
   "execution_count": 27,
   "metadata": {},
   "outputs": [],
   "source": [
    "criterion = nn.BCELoss() # binary crossentropy\n",
    "optimizer = torch.optim.Adam(model.parameters(), lr=learning_rate)"
   ]
  },
  {
   "cell_type": "code",
   "execution_count": 28,
   "metadata": {},
   "outputs": [],
   "source": [
    "# Truncated Backpropagation \n",
    "def detach(states):\n",
    "    return [state.detach() for state in states] "
   ]
  },
  {
   "cell_type": "code",
   "execution_count": 29,
   "metadata": {},
   "outputs": [],
   "source": [
    "# iterations\n",
    "def get_batches(x, y, batch_size=100):\n",
    "    \n",
    "    n_batch = len(x) // batch_size\n",
    "    x, y = x[:batch_size*n_batch], y[:batch_size*n_batch]\n",
    "    for i in range(0, len(x), batch_size):\n",
    "        yield x[i:i+batch_size], y[i:i+batch_size]"
   ]
  },
  {
   "cell_type": "code",
   "execution_count": null,
   "metadata": {},
   "outputs": [],
   "source": []
  },
  {
   "cell_type": "code",
   "execution_count": 30,
   "metadata": {},
   "outputs": [
    {
     "name": "stdout",
     "output_type": "stream",
     "text": [
      "Epoch: 1/10... Iterations: 20... Loss: 1.5456 Perplexity:  4.69\n",
      "Epoch: 1/10... Iterations: 40... Loss: 0.6840 Perplexity:  1.98\n",
      "Epoch: 1/10... Iterations: 60... Loss: 0.6324 Perplexity:  1.88\n",
      "Epoch: 1/10... Iterations: 80... Loss: 0.6183 Perplexity:  1.86\n",
      "Validation Accuracy: 65.200000 %\n",
      "Epoch: 2/10... Iterations: 100... Loss: 0.5656 Perplexity:  1.76\n",
      "Epoch: 2/10... Iterations: 120... Loss: 0.5430 Perplexity:  1.72\n",
      "Epoch: 2/10... Iterations: 140... Loss: 0.3862 Perplexity:  1.47\n",
      "Epoch: 2/10... Iterations: 160... Loss: 0.3785 Perplexity:  1.46\n",
      "Validation Accuracy: 73.240000 %\n",
      "Epoch: 3/10... Iterations: 180... Loss: 0.5399 Perplexity:  1.72\n",
      "Epoch: 3/10... Iterations: 200... Loss: 0.4502 Perplexity:  1.57\n",
      "Epoch: 3/10... Iterations: 220... Loss: 0.2380 Perplexity:  1.27\n",
      "Epoch: 3/10... Iterations: 240... Loss: 0.3944 Perplexity:  1.48\n",
      "Validation Accuracy: 77.400000 %\n",
      "Epoch: 4/10... Iterations: 260... Loss: 0.3140 Perplexity:  1.37\n",
      "Epoch: 4/10... Iterations: 280... Loss: 0.4552 Perplexity:  1.58\n",
      "Epoch: 4/10... Iterations: 300... Loss: 0.2164 Perplexity:  1.24\n",
      "Epoch: 4/10... Iterations: 320... Loss: 0.1159 Perplexity:  1.12\n",
      "Validation Accuracy: 92.800000 %\n",
      "Epoch: 5/10... Iterations: 340... Loss: 0.1409 Perplexity:  1.15\n",
      "Epoch: 5/10... Iterations: 360... Loss: 0.1842 Perplexity:  1.20\n",
      "Epoch: 5/10... Iterations: 380... Loss: 0.2157 Perplexity:  1.24\n",
      "Epoch: 5/10... Iterations: 400... Loss: 0.1983 Perplexity:  1.22\n",
      "Validation Accuracy: 78.720000 %\n",
      "Epoch: 6/10... Iterations: 420... Loss: 0.3851 Perplexity:  1.47\n",
      "Epoch: 6/10... Iterations: 440... Loss: 0.1863 Perplexity:  1.20\n",
      "Epoch: 6/10... Iterations: 460... Loss: 0.1732 Perplexity:  1.19\n",
      "Epoch: 6/10... Iterations: 480... Loss: 0.0835 Perplexity:  1.09\n",
      "Validation Accuracy: 91.840000 %\n",
      "Epoch: 7/10... Iterations: 500... Loss: 0.2170 Perplexity:  1.24\n",
      "Epoch: 7/10... Iterations: 520... Loss: 0.2935 Perplexity:  1.34\n",
      "Epoch: 7/10... Iterations: 540... Loss: 0.1025 Perplexity:  1.11\n",
      "Epoch: 7/10... Iterations: 560... Loss: 0.0623 Perplexity:  1.06\n",
      "Validation Accuracy: 86.560000 %\n",
      "Epoch: 8/10... Iterations: 580... Loss: 0.1701 Perplexity:  1.19\n",
      "Epoch: 8/10... Iterations: 600... Loss: 0.1144 Perplexity:  1.12\n",
      "Epoch: 8/10... Iterations: 620... Loss: 0.1576 Perplexity:  1.17\n",
      "Epoch: 8/10... Iterations: 640... Loss: 0.1395 Perplexity:  1.15\n",
      "Validation Accuracy: 88.680000 %\n",
      "Epoch: 9/10... Iterations: 660... Loss: 0.2536 Perplexity:  1.29\n",
      "Epoch: 9/10... Iterations: 680... Loss: 0.1873 Perplexity:  1.21\n",
      "Epoch: 9/10... Iterations: 700... Loss: 0.0328 Perplexity:  1.03\n",
      "Epoch: 9/10... Iterations: 720... Loss: 0.0489 Perplexity:  1.05\n",
      "Validation Accuracy: 88.680000 %\n",
      "Epoch: 10/10... Iterations: 740... Loss: 0.2611 Perplexity:  1.30\n",
      "Epoch: 10/10... Iterations: 760... Loss: 0.1263 Perplexity:  1.13\n",
      "Epoch: 10/10... Iterations: 780... Loss: 0.1807 Perplexity:  1.20\n",
      "Epoch: 10/10... Iterations: 800... Loss: 0.0765 Perplexity:  1.08\n",
      "Validation Accuracy: 84.080000 %\n"
     ]
    }
   ],
   "source": [
    "# training\n",
    "c = 0\n",
    "for epoch in range(num_epochs):\n",
    "    # training\n",
    "    model.train()\n",
    "    # initial hidden states and memory states\n",
    "    states = (Variable(torch.zeros(num_layers, batch_size, hidden_size)).cuda(), \n",
    "              Variable(torch.zeros(num_layers, batch_size, hidden_size)).cuda())\n",
    "    \n",
    "    for i, (x, y) in enumerate(get_batches(train_x, train_y, batch_size), 1):\n",
    "        # print(i, x.shape, y.shape)\n",
    "        # get batch inputs and targets\n",
    "        # x, y - numpy.array, trasfer to torch tensor, BCELoss need targets : Float tensor\n",
    "        inputs = Variable(torch.from_numpy(x)).cuda()\n",
    "        targets = Variable(torch.from_numpy(y).float()).cuda()\n",
    "        \n",
    "        # forward, backward, optimize\n",
    "        model.zero_grad()\n",
    "        states = detach(states)\n",
    "        outputs, states = model(inputs, states)\n",
    "        loss = criterion(outputs, targets)\n",
    "        loss.backward()\n",
    "        torch.nn.utils.clip_grad_norm(model.parameters(), 0.5)\n",
    "        optimizer.step()\n",
    "        \n",
    "        c += 1\n",
    "        if c % 20 == 0:\n",
    "            print(\"Epoch: {}/{}...\".format(epoch+1, num_epochs), \n",
    "                  \"Iterations: {}...\".format(c), \n",
    "                  \"Loss: {:5.4f}\".format(loss.data[0]), \n",
    "                  \"Perplexity: {:5.2f}\".format(np.exp(loss.data[0])))\n",
    "            \n",
    "    # evaluate validation\n",
    "    model.eval()\n",
    "\n",
    "    corr = total = 0\n",
    "\n",
    "    for i, (x, y) in enumerate(get_batches(val_x, val_y, batch_size), 1):\n",
    "        inputs = Variable(torch.from_numpy(x)).cuda()\n",
    "\n",
    "        # forward, backward, optimize\n",
    "        outputs, _ = model(inputs, states)\n",
    "        total += y.shape[0]\n",
    "        outputs = (outputs.data > 0.5)    # > 0.5 get 1, or get 0\n",
    "        pred = np.array(outputs)\n",
    "\n",
    "        corr += (pred == y).sum()\n",
    "\n",
    "    print('Validation Accuracy: %f %%' % (100 * corr / total))\n",
    "            \n",
    "#     model.eval()\n",
    "#     total_loss = 0\n",
    "#     for i, (x, y) in enumerate(get_batches(val_x, val_y, batch_size), 1):\n",
    "#         # print(i, x.shape, y.shape)\n",
    "#         # get batch inputs and targets\n",
    "#         inputs = Variable(torch.from_numpy(x)).cuda()\n",
    "#         targets = Variable(torch.from_numpy(y).float()).cuda()\n",
    "        \n",
    "#         # forward, backward, optimize\n",
    "        \n",
    "#         outputs, states = model(inputs, states)\n",
    "#         total_loss += criterion(outputs, targets).data[0]\n",
    "#     total_loss /= 10 # every batch : batch_size = 250\n",
    "\n",
    "#     print('Validation Loss: %.4f' % (total_loss))"
   ]
  },
  {
   "cell_type": "code",
   "execution_count": 31,
   "metadata": {},
   "outputs": [
    {
     "name": "stdout",
     "output_type": "stream",
     "text": [
      "Accuracy: 84.600000 %\n"
     ]
    }
   ],
   "source": [
    "# Testing\n",
    "corr = total = 0\n",
    "\n",
    "for i, (x, y) in enumerate(get_batches(test_x, test_y, batch_size), 1):\n",
    "    inputs = Variable(torch.from_numpy(x)).cuda()\n",
    "\n",
    "    # forward, backward, optimize\n",
    "    outputs, _ = model(inputs, states)\n",
    "    total += y.shape[0]\n",
    "    outputs = outputs.data > 0.5 # > 0.5 get 1, or get 0\n",
    "    pred = np.array(outputs)\n",
    "\n",
    "    corr += (pred == y).sum()\n",
    "\n",
    "print('Accuracy: %f %%' % (100 * corr / total))"
   ]
  },
  {
   "cell_type": "code",
   "execution_count": null,
   "metadata": {},
   "outputs": [],
   "source": []
  },
  {
   "cell_type": "code",
   "execution_count": null,
   "metadata": {},
   "outputs": [],
   "source": []
  },
  {
   "cell_type": "markdown",
   "metadata": {},
   "source": [
    "## 5. Model with pre-trained word vectors"
   ]
  },
  {
   "cell_type": "code",
   "execution_count": null,
   "metadata": {},
   "outputs": [],
   "source": [
    "## 两个模型都使用model这个名字，建议使用不同的名字"
   ]
  },
  {
   "cell_type": "code",
   "execution_count": 48,
   "metadata": {},
   "outputs": [
    {
     "name": "stdout",
     "output_type": "stream",
     "text": [
      "400000\n"
     ]
    }
   ],
   "source": [
    "# 从GloVe文件中解析出每个词和它所对应的词向量，并用字典的方式存储\n",
    "# 使用的词向量：100维\n",
    "embeddings_index = {}\n",
    "with open('glove.6B.100d.txt') as txtfile:\n",
    "    lines = txtfile.readlines()\n",
    "    for line in lines:\n",
    "        values = line.split()\n",
    "        word = values[0]\n",
    "        coefs = np.asarray(values[1:], dtype='float32')\n",
    "        embeddings_index[word] = coefs\n",
    "\n",
    "print(len(embeddings_index))"
   ]
  },
  {
   "cell_type": "code",
   "execution_count": 49,
   "metadata": {},
   "outputs": [
    {
     "name": "stdout",
     "output_type": "stream",
     "text": [
      "[-0.038194 -0.24487   0.72812  -0.39961   0.083172  0.043953 -0.39141\n",
      "  0.3344   -0.57545   0.087459  0.28787  -0.06731   0.30906  -0.26384\n",
      " -0.13231  -0.20757   0.33395  -0.33848  -0.31743  -0.48336   0.1464\n",
      " -0.37304   0.34577   0.052041  0.44946  -0.46971   0.02628  -0.54155\n",
      " -0.15518  -0.14107  -0.039722  0.28277   0.14393   0.23464  -0.31021\n",
      "  0.086173  0.20397   0.52624   0.17164  -0.082378 -0.71787  -0.41531\n",
      "  0.20335  -0.12763   0.41367   0.55187   0.57908  -0.33477  -0.36559\n",
      " -0.54857  -0.062892  0.26584   0.30205   0.99775  -0.80481  -3.0243\n",
      "  0.01254  -0.36942   2.2167    0.72201  -0.24978   0.92136   0.034514\n",
      "  0.46745   1.1079   -0.19358  -0.074575  0.23353  -0.052062 -0.22044\n",
      "  0.057162 -0.15806  -0.30798  -0.41625   0.37972   0.15006  -0.53212\n",
      " -0.2055   -1.2526    0.071624  0.70565   0.49744  -0.42063   0.26148\n",
      " -1.538    -0.30223  -0.073438 -0.28312   0.37104  -0.25217   0.016215\n",
      " -0.017099 -0.38984   0.87424  -0.72569  -0.51058  -0.52028  -0.1459\n",
      "  0.8278    0.27062 ]\n"
     ]
    }
   ],
   "source": [
    "print(embeddings_index['the'])"
   ]
  },
  {
   "cell_type": "code",
   "execution_count": null,
   "metadata": {},
   "outputs": [],
   "source": [
    "# vocab_to_int"
   ]
  },
  {
   "cell_type": "code",
   "execution_count": 50,
   "metadata": {},
   "outputs": [],
   "source": [
    "# 构建词向量矩阵, 没有的单词的词向量均为0\n",
    "embedding_dim = 100\n",
    "embedding_matrix = np.zeros((len(vocab_to_int) + 1, embedding_dim))\n",
    "for word, idx in vocab_to_int.items():\n",
    "    embed_vector = embeddings_index.get(word)\n",
    "    if embed_vector is not None:\n",
    "        embedding_matrix[idx] = embed_vector"
   ]
  },
  {
   "cell_type": "code",
   "execution_count": 51,
   "metadata": {},
   "outputs": [],
   "source": [
    "class PreLSTM(nn.Module):\n",
    "    def __init__(self, vocab_size, embed_size, hidden_size, num_layers):\n",
    "        super(PreLSTM, self).__init__()\n",
    "        self.embed = nn.Embedding(vocab_size, embed_size)\n",
    "        self.lstm = nn.LSTM(embed_size, hidden_size, num_layers, batch_first=True)\n",
    "        self.linear = nn.Linear(hidden_size, 1)\n",
    "        self.sigmoid = nn.Sigmoid()\n",
    "        self.init_weights()\n",
    "        \n",
    "    def init_weights(self):\n",
    "        self.embed.weight.data.copy_(torch.from_numpy(embedding_matrix))\n",
    "        self.linear.weight.data.uniform_(-0.1, 0.1)\n",
    "        self.linear.bias.data.fill_(0)\n",
    "        \n",
    "    def forward(self, inputs, hidden):\n",
    "        # embed word ids to vectors\n",
    "        inputs = self.embed(inputs)\n",
    "        \n",
    "        # forward\n",
    "        out, hidden = self.lstm(inputs, hidden)\n",
    "\n",
    "        out = self.linear(out[:, -1, :])\n",
    "        out = self.sigmoid(out)\n",
    "        return out, hidden"
   ]
  },
  {
   "cell_type": "code",
   "execution_count": 52,
   "metadata": {},
   "outputs": [
    {
     "name": "stdout",
     "output_type": "stream",
     "text": [
      "PreLSTM(\n",
      "  (embed): Embedding(74073, 100)\n",
      "  (lstm): LSTM(100, 256, batch_first=True)\n",
      "  (linear): Linear(in_features=256, out_features=1, bias=True)\n",
      "  (sigmoid): Sigmoid()\n",
      ")\n"
     ]
    }
   ],
   "source": [
    "model = PreLSTM(vocab_size, embed_size, hidden_size, num_layers)\n",
    "model.cuda()\n",
    "\n",
    "print(model)"
   ]
  },
  {
   "cell_type": "code",
   "execution_count": 53,
   "metadata": {},
   "outputs": [],
   "source": [
    "criterion = nn.BCELoss()\n",
    "optimizer = torch.optim.Adam(model.parameters(), lr=learning_rate)"
   ]
  },
  {
   "cell_type": "code",
   "execution_count": 54,
   "metadata": {},
   "outputs": [
    {
     "name": "stdout",
     "output_type": "stream",
     "text": [
      "Epoch: 1/10... Iterations: 20... Loss: 0.6614 Perplexity:  1.94\n",
      "Epoch: 1/10... Iterations: 40... Loss: 0.7304 Perplexity:  2.08\n",
      "Epoch: 1/10... Iterations: 60... Loss: 0.6356 Perplexity:  1.89\n",
      "Epoch: 1/10... Iterations: 80... Loss: 0.5646 Perplexity:  1.76\n",
      "Validation Accuracy: 69.000000 %\n",
      "Epoch: 2/10... Iterations: 100... Loss: 0.5289 Perplexity:  1.70\n",
      "Epoch: 2/10... Iterations: 120... Loss: 0.4909 Perplexity:  1.63\n",
      "Epoch: 2/10... Iterations: 140... Loss: 0.4962 Perplexity:  1.64\n",
      "Epoch: 2/10... Iterations: 160... Loss: 0.5509 Perplexity:  1.73\n",
      "Validation Accuracy: 72.160000 %\n",
      "Epoch: 3/10... Iterations: 180... Loss: 0.2278 Perplexity:  1.26\n",
      "Epoch: 3/10... Iterations: 200... Loss: 0.5186 Perplexity:  1.68\n",
      "Epoch: 3/10... Iterations: 220... Loss: 0.4551 Perplexity:  1.58\n",
      "Epoch: 3/10... Iterations: 240... Loss: 0.4846 Perplexity:  1.62\n",
      "Validation Accuracy: 79.360000 %\n",
      "Epoch: 4/10... Iterations: 260... Loss: 0.3107 Perplexity:  1.36\n",
      "Epoch: 4/10... Iterations: 280... Loss: 0.2642 Perplexity:  1.30\n",
      "Epoch: 4/10... Iterations: 300... Loss: 0.0921 Perplexity:  1.10\n",
      "Epoch: 4/10... Iterations: 320... Loss: 0.6959 Perplexity:  2.01\n",
      "Validation Accuracy: 76.600000 %\n",
      "Epoch: 5/10... Iterations: 340... Loss: 0.1883 Perplexity:  1.21\n",
      "Epoch: 5/10... Iterations: 360... Loss: 0.1135 Perplexity:  1.12\n",
      "Epoch: 5/10... Iterations: 380... Loss: 0.0298 Perplexity:  1.03\n",
      "Epoch: 5/10... Iterations: 400... Loss: 0.0464 Perplexity:  1.05\n",
      "Validation Accuracy: 98.800000 %\n",
      "Epoch: 6/10... Iterations: 420... Loss: 0.2218 Perplexity:  1.25\n",
      "Epoch: 6/10... Iterations: 440... Loss: 0.0850 Perplexity:  1.09\n",
      "Epoch: 6/10... Iterations: 460... Loss: 0.0867 Perplexity:  1.09\n",
      "Epoch: 6/10... Iterations: 480... Loss: 0.0080 Perplexity:  1.01\n",
      "Validation Accuracy: 99.640000 %\n",
      "Epoch: 7/10... Iterations: 500... Loss: 0.0285 Perplexity:  1.03\n",
      "Epoch: 7/10... Iterations: 520... Loss: 0.0059 Perplexity:  1.01\n",
      "Epoch: 7/10... Iterations: 540... Loss: 0.0012 Perplexity:  1.00\n",
      "Epoch: 7/10... Iterations: 560... Loss: 0.0016 Perplexity:  1.00\n",
      "Validation Accuracy: 99.680000 %\n",
      "Epoch: 8/10... Iterations: 580... Loss: 0.0101 Perplexity:  1.01\n",
      "Epoch: 8/10... Iterations: 600... Loss: 0.0125 Perplexity:  1.01\n",
      "Epoch: 8/10... Iterations: 620... Loss: 0.0143 Perplexity:  1.01\n",
      "Epoch: 8/10... Iterations: 640... Loss: 0.0014 Perplexity:  1.00\n",
      "Validation Accuracy: 98.720000 %\n",
      "Epoch: 9/10... Iterations: 660... Loss: 0.0009 Perplexity:  1.00\n",
      "Epoch: 9/10... Iterations: 680... Loss: 0.0011 Perplexity:  1.00\n",
      "Epoch: 9/10... Iterations: 700... Loss: 0.0014 Perplexity:  1.00\n",
      "Epoch: 9/10... Iterations: 720... Loss: 0.0005 Perplexity:  1.00\n",
      "Validation Accuracy: 98.200000 %\n",
      "Epoch: 10/10... Iterations: 740... Loss: 0.0005 Perplexity:  1.00\n",
      "Epoch: 10/10... Iterations: 760... Loss: 0.0004 Perplexity:  1.00\n",
      "Epoch: 10/10... Iterations: 780... Loss: 0.0004 Perplexity:  1.00\n",
      "Epoch: 10/10... Iterations: 800... Loss: 0.0004 Perplexity:  1.00\n",
      "Validation Accuracy: 97.000000 %\n"
     ]
    }
   ],
   "source": [
    "# training\n",
    "c = 0\n",
    "for epoch in range(num_epochs):\n",
    "    # initial hidden states and memory states\n",
    "    model.train()\n",
    "    states = (Variable(torch.zeros(num_layers, batch_size, hidden_size)).cuda(), \n",
    "              Variable(torch.zeros(num_layers, batch_size, hidden_size)).cuda())\n",
    "    \n",
    "    for i, (x, y) in enumerate(get_batches(train_x, train_y, batch_size), 1):\n",
    "        # print(i, x.shape, y.shape)\n",
    "        # get batch inputs and targets\n",
    "        inputs = Variable(torch.from_numpy(x)).cuda()\n",
    "        targets = Variable(torch.from_numpy(y).float()).cuda()\n",
    "        \n",
    "        # forward, backward, optimize\n",
    "        model.zero_grad()\n",
    "        states = detach(states)\n",
    "        outputs, states = model(inputs, states)\n",
    "        loss = criterion(outputs, targets)\n",
    "        loss.backward()\n",
    "        torch.nn.utils.clip_grad_norm(model.parameters(), 0.5)\n",
    "        optimizer.step()\n",
    "        \n",
    "        c += 1\n",
    "        if c % 20 == 0:\n",
    "            print(\"Epoch: {}/{}...\".format(epoch+1, num_epochs), \n",
    "                  \"Iterations: {}...\".format(c), \n",
    "                  \"Loss: {:5.4f}\".format(loss.data[0]), \n",
    "                  \"Perplexity: {:5.2f}\".format(np.exp(loss.data[0])))\n",
    "            \n",
    "    # evaluate validation\n",
    "    model.eval()\n",
    "\n",
    "    corr = total = 0\n",
    "\n",
    "    for i, (x, y) in enumerate(get_batches(val_x, val_y, batch_size), 1):\n",
    "        inputs = Variable(torch.from_numpy(x)).cuda()\n",
    "\n",
    "        # forward, backward, optimize\n",
    "        outputs, _ = model(inputs, states)\n",
    "        total += y.shape[0]\n",
    "        outputs = outputs.data > 0.5 # > 0.5 get 1, or get 0\n",
    "        pred = np.array(outputs)\n",
    "\n",
    "        corr += (pred == y).sum()\n",
    "\n",
    "    print('Validation Accuracy: %f %%' % (100 * corr / total))"
   ]
  },
  {
   "cell_type": "code",
   "execution_count": 55,
   "metadata": {},
   "outputs": [
    {
     "name": "stdout",
     "output_type": "stream",
     "text": [
      "Accuracy: 97.400000 %\n"
     ]
    }
   ],
   "source": [
    "# Testing\n",
    "corr = total = 0\n",
    "\n",
    "for i, (x, y) in enumerate(get_batches(test_x, test_y, batch_size), 1):\n",
    "    inputs = Variable(torch.from_numpy(x)).cuda()\n",
    "\n",
    "    # forward, backward, optimize\n",
    "    outputs, _ = model(inputs, states)\n",
    "    total += y.shape[0]\n",
    "    outputs = outputs.data > 0.5 # > 0.5 get 1, or get 0\n",
    "    pred = np.array(outputs)\n",
    "\n",
    "    corr += (pred == y).sum()\n",
    "\n",
    "print('Accuracy: %f %%' % (100 * corr / total))"
   ]
  },
  {
   "cell_type": "code",
   "execution_count": null,
   "metadata": {},
   "outputs": [],
   "source": []
  }
 ],
 "metadata": {
  "kernelspec": {
   "display_name": "Python 3",
   "language": "python",
   "name": "python3"
  },
  "language_info": {
   "codemirror_mode": {
    "name": "ipython",
    "version": 3
   },
   "file_extension": ".py",
   "mimetype": "text/x-python",
   "name": "python",
   "nbconvert_exporter": "python",
   "pygments_lexer": "ipython3",
   "version": "3.6.1"
  }
 },
 "nbformat": 4,
 "nbformat_minor": 2
}
