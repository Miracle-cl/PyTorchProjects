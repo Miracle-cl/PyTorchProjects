{
 "cells": [
  {
   "cell_type": "code",
   "execution_count": 1,
   "metadata": {
    "collapsed": true
   },
   "outputs": [],
   "source": [
    "import torch\n",
    "import torch.nn as nn\n",
    "import torchvision.datasets as dsets\n",
    "import torchvision.transforms as transforms\n",
    "from torch.autograd import Variable\n"
   ]
  },
  {
   "cell_type": "code",
   "execution_count": 2,
   "metadata": {
    "collapsed": true
   },
   "outputs": [],
   "source": [
    "# Hyper parameters\n",
    "epochs = 5\n",
    "batch_size = 32\n",
    "learning_rate = 0.001"
   ]
  },
  {
   "cell_type": "code",
   "execution_count": 3,
   "metadata": {
    "collapsed": true
   },
   "outputs": [],
   "source": [
    "# datasets, dataloader\n",
    "train_dsets = dsets.MNIST(root='../data/', train=True, download=True, transform=transforms.ToTensor())\n",
    "test_dsets = dsets.MNIST(root='../data/', train=False, transform=transforms.ToTensor())\n",
    "\n",
    "train_loader = torch.utils.data.DataLoader(dataset=train_dsets, batch_size=batch_size, shuffle=True)\n",
    "test_loader = torch.utils.data.DataLoader(dataset=test_dsets, batch_size=batch_size, shuffle=False)"
   ]
  },
  {
   "cell_type": "markdown",
   "metadata": {},
   "source": [
    "## CNN"
   ]
  },
  {
   "cell_type": "code",
   "execution_count": 9,
   "metadata": {
    "collapsed": true
   },
   "outputs": [],
   "source": [
    "# CNN model\n",
    "class CNN(nn.Module):\n",
    "    def __init__(self):\n",
    "        super(CNN, self).__init__()\n",
    "        self.layer1 = nn.Sequential(nn.Conv2d(1, 16, kernel_size=5, padding=2), \n",
    "                                    nn.BatchNorm2d(16), \n",
    "                                    nn.ReLU(), \n",
    "                                    nn.MaxPool2d(2)) # 16x14x14\n",
    "        \n",
    "        self.layer2 = nn.Sequential(nn.Conv2d(16, 32, kernel_size=5, padding=2), \n",
    "                                    nn.BatchNorm2d(32), \n",
    "                                    nn.ReLU(), \n",
    "                                    nn.MaxPool2d(2)) # 32x7x7\n",
    "        \n",
    "        self.fc = nn.Linear(32*7*7, 10)\n",
    "        \n",
    "    def forward(self, x):\n",
    "        out = self.layer1(x)\n",
    "        out = self.layer2(out)\n",
    "        out = out.view(out.size(0), -1)\n",
    "        out = self.fc(out)\n",
    "        return out"
   ]
  },
  {
   "cell_type": "code",
   "execution_count": 10,
   "metadata": {},
   "outputs": [],
   "source": [
    "# create model\n",
    "cnn = CNN()\n",
    "\n",
    "# Loss , Optimizer\n",
    "criterion = nn.CrossEntropyLoss()\n",
    "optimizer = torch.optim.Adam(cnn.parameters(), lr=learning_rate)"
   ]
  },
  {
   "cell_type": "code",
   "execution_count": 11,
   "metadata": {},
   "outputs": [
    {
     "name": "stdout",
     "output_type": "stream",
     "text": [
      "Epoch: 1/5... Iterations: 200... Loss: 0.20349068939685822\n",
      "Epoch: 1/5... Iterations: 400... Loss: 0.010171846486628056\n",
      "Epoch: 1/5... Iterations: 600... Loss: 0.01544178370386362\n",
      "Epoch: 1/5... Iterations: 800... Loss: 0.023609258234500885\n",
      "Epoch: 1/5... Iterations: 1000... Loss: 0.023287981748580933\n",
      "Epoch: 1/5... Iterations: 1200... Loss: 0.2359127551317215\n",
      "Epoch: 1/5... Iterations: 1400... Loss: 0.05197572708129883\n",
      "Epoch: 1/5... Iterations: 1600... Loss: 0.008794616907835007\n",
      "Epoch: 1/5... Iterations: 1800... Loss: 0.07880351692438126\n",
      "Epoch: 2/5... Iterations: 2000... Loss: 0.07158299535512924\n",
      "Epoch: 2/5... Iterations: 2200... Loss: 0.01069680880755186\n",
      "Epoch: 2/5... Iterations: 2400... Loss: 0.02295682765543461\n",
      "Epoch: 2/5... Iterations: 2600... Loss: 0.03023640625178814\n",
      "Epoch: 2/5... Iterations: 2800... Loss: 0.1954856961965561\n",
      "Epoch: 2/5... Iterations: 3000... Loss: 0.0034680014941841364\n",
      "Epoch: 2/5... Iterations: 3200... Loss: 0.11457661539316177\n",
      "Epoch: 2/5... Iterations: 3400... Loss: 0.14805066585540771\n",
      "Epoch: 2/5... Iterations: 3600... Loss: 0.0019216265063732862\n",
      "Epoch: 3/5... Iterations: 3800... Loss: 0.01277945376932621\n",
      "Epoch: 3/5... Iterations: 4000... Loss: 0.0023294459097087383\n",
      "Epoch: 3/5... Iterations: 4200... Loss: 0.05671350657939911\n",
      "Epoch: 3/5... Iterations: 4400... Loss: 0.01305561326444149\n",
      "Epoch: 3/5... Iterations: 4600... Loss: 0.11071444302797318\n",
      "Epoch: 3/5... Iterations: 4800... Loss: 0.3666112422943115\n",
      "Epoch: 3/5... Iterations: 5000... Loss: 0.04223189130425453\n",
      "Epoch: 3/5... Iterations: 5200... Loss: 0.011001989245414734\n",
      "Epoch: 3/5... Iterations: 5400... Loss: 0.018663058057427406\n",
      "Epoch: 3/5... Iterations: 5600... Loss: 0.028757890686392784\n",
      "Epoch: 4/5... Iterations: 5800... Loss: 0.06304546445608139\n",
      "Epoch: 4/5... Iterations: 6000... Loss: 0.0015995323192328215\n",
      "Epoch: 4/5... Iterations: 6200... Loss: 0.0033308505080640316\n",
      "Epoch: 4/5... Iterations: 6400... Loss: 0.018192781135439873\n",
      "Epoch: 4/5... Iterations: 6600... Loss: 0.016433876007795334\n",
      "Epoch: 4/5... Iterations: 6800... Loss: 0.1601574420928955\n",
      "Epoch: 4/5... Iterations: 7000... Loss: 0.0837542712688446\n",
      "Epoch: 4/5... Iterations: 7200... Loss: 0.0016045324737206101\n",
      "Epoch: 4/5... Iterations: 7400... Loss: 0.07208923250436783\n",
      "Epoch: 5/5... Iterations: 7600... Loss: 0.003481762483716011\n",
      "Epoch: 5/5... Iterations: 7800... Loss: 0.003017054172232747\n",
      "Epoch: 5/5... Iterations: 8000... Loss: 0.003274570917710662\n",
      "Epoch: 5/5... Iterations: 8200... Loss: 0.0008026734576560557\n",
      "Epoch: 5/5... Iterations: 8400... Loss: 0.00429680198431015\n",
      "Epoch: 5/5... Iterations: 8600... Loss: 0.0019135356415063143\n",
      "Epoch: 5/5... Iterations: 8800... Loss: 0.0010191812179982662\n",
      "Epoch: 5/5... Iterations: 9000... Loss: 0.00042849653982557356\n",
      "Epoch: 5/5... Iterations: 9200... Loss: 0.0013153362087905407\n"
     ]
    }
   ],
   "source": [
    "# Training\n",
    "i = 0\n",
    "for epoch in range(epochs):\n",
    "    for images, labels in train_loader:\n",
    "        images = Variable(images)\n",
    "        labels = Variable(labels)\n",
    "        \n",
    "        optimizer.zero_grad()\n",
    "        outputs = cnn(images)\n",
    "        loss = criterion(outputs, labels)\n",
    "        loss.backward()\n",
    "        optimizer.step()\n",
    "        \n",
    "        i += 1\n",
    "        if i % 200 == 0:\n",
    "            print(\"Epoch: {}/{}...\".format(epoch+1, epochs), \n",
    "                  \"Iterations: {}...\".format(i), \n",
    "                  \"Loss: {}\".format(loss.data[0]))"
   ]
  },
  {
   "cell_type": "code",
   "execution_count": 15,
   "metadata": {},
   "outputs": [
    {
     "name": "stdout",
     "output_type": "stream",
     "text": [
      "Accuracy: 99.04%\n"
     ]
    }
   ],
   "source": [
    "# Testing\n",
    "cnn.eval() # Sets the module in evaluation mode (BN uses moving mean/var)\n",
    "\n",
    "correct = total = 0\n",
    "for images, labels in test_loader:\n",
    "    images = Variable(images)\n",
    "    # labels = Variable(labels)\n",
    "    \n",
    "    outputs = cnn(images) # print(outputs.data.size()) 32x10\n",
    "    _, pred = torch.max(outputs.data, 1) # max_value, max_value_index(argmax)\n",
    "    total += labels.size(0)\n",
    "    correct += (pred == labels).sum()\n",
    "\n",
    "print('Accuracy: {}%'.format(100*correct/total))"
   ]
  },
  {
   "cell_type": "code",
   "execution_count": 16,
   "metadata": {},
   "outputs": [
    {
     "name": "stdout",
     "output_type": "stream",
     "text": [
      "CNN(\n",
      "  (layer1): Sequential(\n",
      "    (0): Conv2d(1, 16, kernel_size=(5, 5), stride=(1, 1), padding=(2, 2))\n",
      "    (1): BatchNorm2d(16, eps=1e-05, momentum=0.1, affine=True)\n",
      "    (2): ReLU()\n",
      "    (3): MaxPool2d(kernel_size=(2, 2), stride=(2, 2), dilation=(1, 1), ceil_mode=False)\n",
      "  )\n",
      "  (layer2): Sequential(\n",
      "    (0): Conv2d(16, 32, kernel_size=(5, 5), stride=(1, 1), padding=(2, 2))\n",
      "    (1): BatchNorm2d(32, eps=1e-05, momentum=0.1, affine=True)\n",
      "    (2): ReLU()\n",
      "    (3): MaxPool2d(kernel_size=(2, 2), stride=(2, 2), dilation=(1, 1), ceil_mode=False)\n",
      "  )\n",
      "  (fc): Linear(in_features=1568, out_features=10, bias=True)\n",
      ")\n"
     ]
    }
   ],
   "source": [
    "print(cnn)"
   ]
  },
  {
   "cell_type": "code",
   "execution_count": 19,
   "metadata": {},
   "outputs": [
    {
     "data": {
      "text/plain": [
       "[400, 16, 16, 16, 12800, 32, 32, 32, 15680, 10]"
      ]
     },
     "execution_count": 19,
     "metadata": {},
     "output_type": "execute_result"
    }
   ],
   "source": [
    "[param.nelement() for param in cnn.parameters()]"
   ]
  },
  {
   "cell_type": "code",
   "execution_count": null,
   "metadata": {},
   "outputs": [],
   "source": []
  },
  {
   "cell_type": "code",
   "execution_count": null,
   "metadata": {},
   "outputs": [],
   "source": []
  },
  {
   "cell_type": "code",
   "execution_count": null,
   "metadata": {
    "collapsed": true
   },
   "outputs": [],
   "source": []
  }
 ],
 "metadata": {
  "kernelspec": {
   "display_name": "Python 3",
   "language": "python",
   "name": "python3"
  },
  "language_info": {
   "codemirror_mode": {
    "name": "ipython",
    "version": 3
   },
   "file_extension": ".py",
   "mimetype": "text/x-python",
   "name": "python",
   "nbconvert_exporter": "python",
   "pygments_lexer": "ipython3",
   "version": "3.6.1"
  }
 },
 "nbformat": 4,
 "nbformat_minor": 2
}
